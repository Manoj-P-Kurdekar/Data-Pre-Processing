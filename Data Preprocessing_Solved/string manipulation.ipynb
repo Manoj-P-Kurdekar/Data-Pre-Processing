{
 "cells": [
  {
   "cell_type": "markdown",
   "id": "457de281",
   "metadata": {},
   "source": [
    "### 1.\tCreate a string “Grow Gratitude”.\n",
    "### Code for the following tasks:\n",
    "### a)\tHow do you access the letter “G” of “Growth”?\n"
   ]
  },
  {
   "cell_type": "code",
   "execution_count": 2,
   "id": "f8a309b0",
   "metadata": {},
   "outputs": [],
   "source": [
    "string = ('Grow Gratitude')"
   ]
  },
  {
   "cell_type": "code",
   "execution_count": 4,
   "id": "f1f2af47",
   "metadata": {},
   "outputs": [
    {
     "data": {
      "text/plain": [
       "'G'"
      ]
     },
     "execution_count": 4,
     "metadata": {},
     "output_type": "execute_result"
    }
   ],
   "source": [
    "string[0]   # we can take the index value of the given string"
   ]
  },
  {
   "cell_type": "markdown",
   "id": "b23fb7b4",
   "metadata": {},
   "source": [
    "### b)\tHow do you find the length of the string?\n"
   ]
  },
  {
   "cell_type": "code",
   "execution_count": 6,
   "id": "78bc35f0",
   "metadata": {},
   "outputs": [
    {
     "data": {
      "text/plain": [
       "14"
      ]
     },
     "execution_count": 6,
     "metadata": {},
     "output_type": "execute_result"
    }
   ],
   "source": [
    "len(string)   #to find length in python we have len keyword"
   ]
  },
  {
   "cell_type": "markdown",
   "id": "e95255ca",
   "metadata": {},
   "source": [
    "### c)\tCount how many times “G” is in the string."
   ]
  },
  {
   "cell_type": "code",
   "execution_count": 7,
   "id": "e967e2d3",
   "metadata": {},
   "outputs": [
    {
     "data": {
      "text/plain": [
       "2"
      ]
     },
     "execution_count": 7,
     "metadata": {},
     "output_type": "execute_result"
    }
   ],
   "source": [
    "string.count('G')  # to count the letters the 'count' function is used"
   ]
  },
  {
   "cell_type": "markdown",
   "id": "d0a5d7c9",
   "metadata": {},
   "source": [
    "### 2.\tCreate a string “Being aware of a single shortcoming within yourself is far more useful than being aware of a thousand in someone else.”\n",
    "#### Code for the following:\n",
    "##### a)\tCount the number of characters in the string.\n",
    "\n"
   ]
  },
  {
   "cell_type": "code",
   "execution_count": 32,
   "id": "baa962b6",
   "metadata": {},
   "outputs": [],
   "source": [
    "string = 'Being aware of a single shortcoming within yourself is far more useful than being aware of a thousand in someone else.'"
   ]
  },
  {
   "cell_type": "code",
   "execution_count": 33,
   "id": "43dcb5f0",
   "metadata": {},
   "outputs": [
    {
     "name": "stdout",
     "output_type": "stream",
     "text": [
      "the number of characters in string is : 98\n"
     ]
    }
   ],
   "source": [
    "count = 0\n",
    "for i in range(0,len(string)):   \n",
    "    if (string[i] != \" \"):         #Counts each character except space.\n",
    "        count = count + 1        \n",
    "print('the number of characters in string is : '+ str(count))    #Displays the total number of characters present in the given string."
   ]
  },
  {
   "cell_type": "markdown",
   "id": "2ebc2421",
   "metadata": {},
   "source": [
    "### 3.\tCreate a string \"Idealistic as it may sound, altruism should be the driving force in business, not just competition and a desire for wealth\"\n",
    "#### Code for the following tasks:\n",
    "#### a)\tget one char of the word\n"
   ]
  },
  {
   "cell_type": "code",
   "execution_count": 40,
   "id": "d1915a28",
   "metadata": {},
   "outputs": [],
   "source": [
    "string = 'Idealistic as it may sound, altruism should be the driving force in business, not just competition and a desire for wealth'"
   ]
  },
  {
   "cell_type": "code",
   "execution_count": 41,
   "id": "4c3f8819",
   "metadata": {},
   "outputs": [
    {
     "data": {
      "text/plain": [
       "'u'"
      ]
     },
     "execution_count": 41,
     "metadata": {},
     "output_type": "execute_result"
    }
   ],
   "source": [
    "word = 'should'\n",
    "word[3]    # by using index method i get the 'u' from 'should'"
   ]
  },
  {
   "cell_type": "markdown",
   "id": "b98412a8",
   "metadata": {},
   "source": [
    "#### b)\tget the first three char\n"
   ]
  },
  {
   "cell_type": "code",
   "execution_count": 44,
   "id": "95700b18",
   "metadata": {},
   "outputs": [
    {
     "name": "stdout",
     "output_type": "stream",
     "text": [
      "The first three char is:  dri\n"
     ]
    }
   ],
   "source": [
    "word = 'driving'\n",
    "char = word[0:3]      # index of the word upto 3. so we get the first three car\n",
    "print('The first three char is: ', char)"
   ]
  },
  {
   "cell_type": "markdown",
   "id": "c1b45d19",
   "metadata": {},
   "source": [
    "      \n",
    "#### c) get the last three char"
   ]
  },
  {
   "cell_type": "code",
   "execution_count": 55,
   "id": "8889a20a",
   "metadata": {},
   "outputs": [
    {
     "name": "stdout",
     "output_type": "stream",
     "text": [
      "The last three char is:  ing\n"
     ]
    }
   ],
   "source": [
    "word = 'driving'\n",
    "char = word[ -3 : ]      # index of the word from last 3. so we get the last three car\n",
    "print('The last three char is: ', char)"
   ]
  },
  {
   "cell_type": "markdown",
   "id": "fcdb312b",
   "metadata": {},
   "source": [
    "### 4.\tcreate a string \"stay positive and optimistic\". Now write a code to split on whitespace.\n",
    "### Write a code to find if:\n",
    "### a)\tThe string starts with “H”\n"
   ]
  },
  {
   "cell_type": "code",
   "execution_count": 57,
   "id": "21610d07",
   "metadata": {},
   "outputs": [],
   "source": [
    "string = 'stay positive and optimistic'"
   ]
  },
  {
   "cell_type": "code",
   "execution_count": 58,
   "id": "c9689145",
   "metadata": {},
   "outputs": [
    {
     "data": {
      "text/plain": [
       "['stay', 'positive', 'and', 'optimistic']"
      ]
     },
     "execution_count": 58,
     "metadata": {},
     "output_type": "execute_result"
    }
   ],
   "source": [
    "string.split(\" \")"
   ]
  },
  {
   "cell_type": "code",
   "execution_count": 59,
   "id": "fa04b4e9",
   "metadata": {},
   "outputs": [
    {
     "data": {
      "text/plain": [
       "False"
      ]
     },
     "execution_count": 59,
     "metadata": {},
     "output_type": "execute_result"
    }
   ],
   "source": [
    "string.startswith('H')"
   ]
  },
  {
   "cell_type": "markdown",
   "id": "7bd76cc5",
   "metadata": {},
   "source": [
    "### b)\tThe string ends with “d”\n",
    "\n"
   ]
  },
  {
   "cell_type": "code",
   "execution_count": 60,
   "id": "6845d45e",
   "metadata": {},
   "outputs": [
    {
     "data": {
      "text/plain": [
       "False"
      ]
     },
     "execution_count": 60,
     "metadata": {},
     "output_type": "execute_result"
    }
   ],
   "source": [
    "string.endswith(\"d\")"
   ]
  },
  {
   "cell_type": "markdown",
   "id": "1d9ccf92",
   "metadata": {},
   "source": [
    "### c)\tThe string ends with “c”"
   ]
  },
  {
   "cell_type": "code",
   "execution_count": 61,
   "id": "fff098a9",
   "metadata": {},
   "outputs": [
    {
     "data": {
      "text/plain": [
       "True"
      ]
     },
     "execution_count": 61,
     "metadata": {},
     "output_type": "execute_result"
    }
   ],
   "source": [
    "string.endswith(\"c\")"
   ]
  },
  {
   "cell_type": "markdown",
   "id": "2600c203",
   "metadata": {},
   "source": [
    "### 5.\tWrite a code to print \" 🪐 \" one hundred and eight times. (only in python)"
   ]
  },
  {
   "cell_type": "code",
   "execution_count": 62,
   "id": "170de48d",
   "metadata": {},
   "outputs": [
    {
     "name": "stdout",
     "output_type": "stream",
     "text": [
      " 🪐  🪐  🪐  🪐  🪐  🪐  🪐  🪐  🪐  🪐  🪐  🪐  🪐  🪐  🪐  🪐  🪐  🪐  🪐  🪐  🪐  🪐  🪐  🪐  🪐  🪐  🪐  🪐  🪐  🪐  🪐  🪐  🪐  🪐  🪐  🪐  🪐  🪐  🪐  🪐  🪐  🪐  🪐  🪐  🪐  🪐  🪐  🪐  🪐  🪐  🪐  🪐  🪐  🪐  🪐  🪐  🪐  🪐  🪐  🪐  🪐  🪐  🪐  🪐  🪐  🪐  🪐  🪐  🪐  🪐  🪐  🪐  🪐  🪐  🪐  🪐  🪐  🪐  🪐  🪐  🪐  🪐  🪐  🪐  🪐  🪐  🪐  🪐  🪐  🪐  🪐  🪐  🪐  🪐  🪐  🪐  🪐  🪐  🪐  🪐  🪐  🪐  🪐  🪐  🪐  🪐  🪐  🪐 \n"
     ]
    }
   ],
   "source": [
    "print(' 🪐 ' * 108)"
   ]
  },
  {
   "cell_type": "markdown",
   "id": "a7f51204",
   "metadata": {},
   "source": [
    "### 6.\tWrite a code to print \" o \" one hundred and eight times. (only in R)"
   ]
  },
  {
   "cell_type": "markdown",
   "id": "6c51c76f",
   "metadata": {},
   "source": [
    "### 7.Create a string “Grow Gratitude” and write a code to replace “Grow” with “Growth of”"
   ]
  },
  {
   "cell_type": "code",
   "execution_count": 64,
   "id": "df8505ed",
   "metadata": {},
   "outputs": [
    {
     "data": {
      "text/plain": [
       "'Growth of  Gratitude'"
      ]
     },
     "execution_count": 64,
     "metadata": {},
     "output_type": "execute_result"
    }
   ],
   "source": [
    "string = 'Grow Gratitude'\n",
    "string.replace('Grow', 'Growth of ')"
   ]
  },
  {
   "cell_type": "markdown",
   "id": "89b4f4b4",
   "metadata": {},
   "source": [
    "### 8.A story was printed in a pdf, which isn’t making any sense. i.e.:\n",
    "“.elgnujehtotniffo deps mehtfohtoB .eerfnoilehttesotseporeht no dewangdnanar eh ,ylkciuQ .elbuortninoilehtdecitondnatsapdeklawesuomeht ,nooS .repmihwotdetratsdnatuotegotgnilggurts saw noilehT .eert a tsniagapumihdeityehT .mehthtiwnoilehtkootdnatserofehtotniemacsretnuhwef a ,yad enO .ogmihteldnaecnedifnocs’esuomeht ta dehgualnoilehT ”.emevasuoy fi yademosuoyotplehtaergfo eb lliw I ,uoyesimorp I“ .eerfmihtesotnoilehtdetseuqeryletarepsedesuomehtnehwesuomehttaeottuoba saw eH .yrgnaetiuqpuekow eh dna ,peels s’noilehtdebrutsidsihT .nufroftsujydobsihnwoddnapugninnurdetratsesuom a nehwelgnujehtnignipeelsecno saw noil A”\n",
    "\n",
    "#### You have noticed that the story is printed in a reversed order. Rectify the same and write a code to print the same story in a correct order.\n"
   ]
  },
  {
   "cell_type": "code",
   "execution_count": 66,
   "id": "a2734e85",
   "metadata": {},
   "outputs": [],
   "source": [
    "string = '.elgnujehtotniffo deps mehtfohtoB .eerfnoilehttesotseporeht no dewangdnanar eh ,ylkciuQ .elbuortninoilehtdecitondnatsapdeklawesuomeht ,nooS .repmihwotdetratsdnatuotegotgnilggurts saw noilehT .eert a tsniagapumihdeityehT .mehthtiwnoilehtkootdnatserofehtotniemacsretnuhwef a ,yad enO .ogmihteldnaecnedifnocs’esuomeht ta dehgualnoilehT ”.emevasuoy fi yademosuoyotplehtaergfo eb lliw I ,uoyesimorp I“ .eerfmihtesotnoilehtdetseuqeryletarepsedesuomehtnehwesuomehttaeottuoba saw eH .yrgnaetiuqpuekow eh dna ,peels s’noilehtdebrutsidsihT .nufroftsujydobsihnwoddnapugninnurdetratsesuom a nehwelgnujehtnignipeelsecno saw noil A'\n"
   ]
  },
  {
   "cell_type": "code",
   "execution_count": 67,
   "id": "b2827b16",
   "metadata": {},
   "outputs": [
    {
     "name": "stdout",
     "output_type": "stream",
     "text": [
      "A lion was oncesleepinginthejunglewhen a mousestartedrunningupanddownhisbodyjustforfun. Thisdisturbedthelion’s sleep, and he wokeupquiteangry. He was abouttoeatthemousewhenthemousedesperatelyrequestedtheliontosethimfree. “I promiseyou, I will be ofgreathelptoyousomeday if yousaveme.” Thelionlaughed at themouse’sconfidenceandlethimgo. One day, a fewhunterscameintotheforestandtookthelionwiththem. Theytiedhimupagainst a tree. Thelion was strugglingtogetoutandstartedtowhimper. Soon, themousewalkedpastandnoticedthelionintrouble. Quickly, he ranandgnawed on theropestosetthelionfree. Bothofthem sped offintothejungle.\n"
     ]
    }
   ],
   "source": [
    "print(''.join(reversed(string)))"
   ]
  },
  {
   "cell_type": "code",
   "execution_count": null,
   "id": "62043f75",
   "metadata": {},
   "outputs": [],
   "source": []
  }
 ],
 "metadata": {
  "kernelspec": {
   "display_name": "Python 3 (ipykernel)",
   "language": "python",
   "name": "python3"
  },
  "language_info": {
   "codemirror_mode": {
    "name": "ipython",
    "version": 3
   },
   "file_extension": ".py",
   "mimetype": "text/x-python",
   "name": "python",
   "nbconvert_exporter": "python",
   "pygments_lexer": "ipython3",
   "version": "3.9.13"
  }
 },
 "nbformat": 4,
 "nbformat_minor": 5
}
